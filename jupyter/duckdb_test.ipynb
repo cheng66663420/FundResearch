{
 "cells": [
  {
   "cell_type": "code",
   "execution_count": 10,
   "metadata": {},
   "outputs": [],
   "source": [
    "import polars as pl\n",
    "df = pl.read_excel(\"C:/Users/Wilcoxon/Desktop/etf.xlsx\")"
   ]
  },
  {
   "cell_type": "code",
   "execution_count": 11,
   "metadata": {},
   "outputs": [],
   "source": [
    "df = df.pivot(on = [\"INDUSTRIESNAME_1\"],index=\"EndDate\",values=\"asset\").fill_null(0)"
   ]
  },
  {
   "cell_type": "code",
   "execution_count": 12,
   "metadata": {},
   "outputs": [
    {
     "data": {
      "text/plain": [
       "<xlsxwriter.workbook.Workbook at 0x20ac538ef30>"
      ]
     },
     "execution_count": 12,
     "metadata": {},
     "output_type": "execute_result"
    }
   ],
   "source": [
    "df.write_excel(\"d:/etf.xlsx\")"
   ]
  },
  {
   "cell_type": "code",
   "execution_count": 13,
   "metadata": {},
   "outputs": [
    {
     "data": {
      "text/html": [
       "<div><style>\n",
       ".dataframe > thead > tr,\n",
       ".dataframe > tbody > tr {\n",
       "  text-align: right;\n",
       "  white-space: pre-wrap;\n",
       "}\n",
       "</style>\n",
       "<small>shape: (238, 5)</small><table border=\"1\" class=\"dataframe\"><thead><tr><th>EndDate</th><th>股票型</th><th>QDII</th><th>债券型</th><th>商品型</th></tr><tr><td>date</td><td>f64</td><td>f64</td><td>f64</td><td>f64</td></tr></thead><tbody><tr><td>2005-02-28</td><td>47.90797</td><td>0.0</td><td>0.0</td><td>0.0</td></tr><tr><td>2005-03-31</td><td>52.05044</td><td>0.0</td><td>0.0</td><td>0.0</td></tr><tr><td>2005-04-29</td><td>62.95608</td><td>0.0</td><td>0.0</td><td>0.0</td></tr><tr><td>2005-05-31</td><td>65.872</td><td>0.0</td><td>0.0</td><td>0.0</td></tr><tr><td>2005-06-30</td><td>67.65296</td><td>0.0</td><td>0.0</td><td>0.0</td></tr><tr><td>&hellip;</td><td>&hellip;</td><td>&hellip;</td><td>&hellip;</td><td>&hellip;</td></tr><tr><td>2024-07-31</td><td>20573.239862</td><td>2826.202482</td><td>1281.879628</td><td>546.670729</td></tr><tr><td>2024-08-30</td><td>21116.221006</td><td>2869.148995</td><td>1308.202401</td><td>536.321679</td></tr><tr><td>2024-09-30</td><td>27967.128105</td><td>3326.640615</td><td>1373.028403</td><td>569.018392</td></tr><tr><td>2024-10-31</td><td>29293.201797</td><td>3122.967532</td><td>1417.247637</td><td>741.864626</td></tr><tr><td>2024-11-29</td><td>31449.518119</td><td>1651.728564</td><td>1511.634349</td><td>694.540912</td></tr></tbody></table></div>"
      ],
      "text/plain": [
       "shape: (238, 5)\n",
       "┌────────────┬──────────────┬─────────────┬─────────────┬────────────┐\n",
       "│ EndDate    ┆ 股票型       ┆ QDII        ┆ 债券型      ┆ 商品型     │\n",
       "│ ---        ┆ ---          ┆ ---         ┆ ---         ┆ ---        │\n",
       "│ date       ┆ f64          ┆ f64         ┆ f64         ┆ f64        │\n",
       "╞════════════╪══════════════╪═════════════╪═════════════╪════════════╡\n",
       "│ 2005-02-28 ┆ 47.90797     ┆ 0.0         ┆ 0.0         ┆ 0.0        │\n",
       "│ 2005-03-31 ┆ 52.05044     ┆ 0.0         ┆ 0.0         ┆ 0.0        │\n",
       "│ 2005-04-29 ┆ 62.95608     ┆ 0.0         ┆ 0.0         ┆ 0.0        │\n",
       "│ 2005-05-31 ┆ 65.872       ┆ 0.0         ┆ 0.0         ┆ 0.0        │\n",
       "│ 2005-06-30 ┆ 67.65296     ┆ 0.0         ┆ 0.0         ┆ 0.0        │\n",
       "│ …          ┆ …            ┆ …           ┆ …           ┆ …          │\n",
       "│ 2024-07-31 ┆ 20573.239862 ┆ 2826.202482 ┆ 1281.879628 ┆ 546.670729 │\n",
       "│ 2024-08-30 ┆ 21116.221006 ┆ 2869.148995 ┆ 1308.202401 ┆ 536.321679 │\n",
       "│ 2024-09-30 ┆ 27967.128105 ┆ 3326.640615 ┆ 1373.028403 ┆ 569.018392 │\n",
       "│ 2024-10-31 ┆ 29293.201797 ┆ 3122.967532 ┆ 1417.247637 ┆ 741.864626 │\n",
       "│ 2024-11-29 ┆ 31449.518119 ┆ 1651.728564 ┆ 1511.634349 ┆ 694.540912 │\n",
       "└────────────┴──────────────┴─────────────┴─────────────┴────────────┘"
      ]
     },
     "execution_count": 13,
     "metadata": {},
     "output_type": "execute_result"
    }
   ],
   "source": [
    "df"
   ]
  },
  {
   "cell_type": "code",
   "execution_count": 23,
   "metadata": {},
   "outputs": [],
   "source": [
    "from quant_utils.db_conn import DB_CONN_JJTG_DATA\n",
    "query_sql = \"\"\"\n",
    "SELECT\n",
    "  a.EndDate,\n",
    "  c.INDUSTRIESNAME_1,\n",
    "  sum(a.FloatShares) / 100000000 AS shares, sum(a.FloatShares * d.UNIT_NAV) / 100000000 AS asset \n",
    "FROM\n",
    "  jy_local.mf_shareschange a\n",
    "  JOIN chentiancheng.fund_info b ON a.InnerCode = b.SECURITY_ID \n",
    "  AND b.ETF_LOF = 'ETF' \n",
    "  AND b.ESTABLISH_DATE <= a.EndDate\n",
    "  JOIN chentiancheng.fund_type_jy c ON c.TICKER_SYMBOL = b.TICKER_SYMBOL \n",
    "  AND c.INDUSTRIESNAME_1 IN ('QDII', '商品型') \n",
    "  AND c.CUR_SIGN = 1\n",
    "  JOIN chentiancheng.fund_adj_nav d ON d.TICKER_SYMBOL = b.TICKER_SYMBOL \n",
    "  AND d.END_DATE = a.EndDate\n",
    "  JOIN md_tradingdaynew e ON e.TRADE_DT = a.EndDate \n",
    "  AND e.SECU_MARKET = 83 \n",
    "  AND e.IF_MONTH_END = 1 \n",
    "WHERE\n",
    "  1 = 1 \n",
    "  AND (a.StatPeriod = 996 OR (a.StatPeriod = 993 AND a.InfoSource LIKE '%上市%' AND a.InfoSource LIKE '%公告%')) \n",
    "GROUP BY\n",
    "  a.EndDate,\n",
    "  c.INDUSTRIESNAME_1 \n",
    "ORDER BY\n",
    "  a.EndDate,\n",
    "  c.INDUSTRIESNAME_1;\n",
    "\"\"\"\n",
    "df = DB_CONN_JJTG_DATA.exec_query(query_sql)"
   ]
  },
  {
   "cell_type": "code",
   "execution_count": 24,
   "metadata": {},
   "outputs": [
    {
     "name": "stderr",
     "output_type": "stream",
     "text": [
      "C:\\Users\\Wilcoxon\\AppData\\Local\\Temp\\ipykernel_25168\\891879739.py:1: FutureWarning: Downcasting object dtype arrays on .fillna, .ffill, .bfill is deprecated and will change in a future version. Call result.infer_objects(copy=False) instead. To opt-in to the future behavior, set `pd.set_option('future.no_silent_downcasting', True)`\n",
      "  df = df.pivot_table(index=\"EndDate\",columns=\"INDUSTRIESNAME_1\",values=\"shares\").fillna(0)\n"
     ]
    }
   ],
   "source": [
    "df = df.pivot_table(index=\"EndDate\",columns=\"INDUSTRIESNAME_1\",values=\"shares\").fillna(0)"
   ]
  },
  {
   "cell_type": "code",
   "execution_count": 25,
   "metadata": {},
   "outputs": [
    {
     "data": {
      "text/html": [
       "<div>\n",
       "<style scoped>\n",
       "    .dataframe tbody tr th:only-of-type {\n",
       "        vertical-align: middle;\n",
       "    }\n",
       "\n",
       "    .dataframe tbody tr th {\n",
       "        vertical-align: top;\n",
       "    }\n",
       "\n",
       "    .dataframe thead th {\n",
       "        text-align: right;\n",
       "    }\n",
       "</style>\n",
       "<table border=\"1\" class=\"dataframe\">\n",
       "  <thead>\n",
       "    <tr style=\"text-align: right;\">\n",
       "      <th>INDUSTRIESNAME_1</th>\n",
       "      <th>QDII</th>\n",
       "      <th>商品型</th>\n",
       "    </tr>\n",
       "    <tr>\n",
       "      <th>EndDate</th>\n",
       "      <th></th>\n",
       "      <th></th>\n",
       "    </tr>\n",
       "  </thead>\n",
       "  <tbody>\n",
       "    <tr>\n",
       "      <th>2012-10-31</th>\n",
       "      <td>22.105592</td>\n",
       "      <td>0.000000</td>\n",
       "    </tr>\n",
       "    <tr>\n",
       "      <th>2012-11-30</th>\n",
       "      <td>10.365592</td>\n",
       "      <td>0.000000</td>\n",
       "    </tr>\n",
       "    <tr>\n",
       "      <th>2012-12-31</th>\n",
       "      <td>8.115592</td>\n",
       "      <td>0.000000</td>\n",
       "    </tr>\n",
       "    <tr>\n",
       "      <th>2013-01-31</th>\n",
       "      <td>5.955592</td>\n",
       "      <td>0.000000</td>\n",
       "    </tr>\n",
       "    <tr>\n",
       "      <th>2013-02-28</th>\n",
       "      <td>5.225592</td>\n",
       "      <td>0.000000</td>\n",
       "    </tr>\n",
       "    <tr>\n",
       "      <th>...</th>\n",
       "      <td>...</td>\n",
       "      <td>...</td>\n",
       "    </tr>\n",
       "    <tr>\n",
       "      <th>2024-07-31</th>\n",
       "      <td>3922.142173</td>\n",
       "      <td>108.722687</td>\n",
       "    </tr>\n",
       "    <tr>\n",
       "      <th>2024-08-30</th>\n",
       "      <td>3927.434540</td>\n",
       "      <td>105.811687</td>\n",
       "    </tr>\n",
       "    <tr>\n",
       "      <th>2024-09-30</th>\n",
       "      <td>3878.511540</td>\n",
       "      <td>110.011687</td>\n",
       "    </tr>\n",
       "    <tr>\n",
       "      <th>2024-10-31</th>\n",
       "      <td>3748.724540</td>\n",
       "      <td>135.064687</td>\n",
       "    </tr>\n",
       "    <tr>\n",
       "      <th>2024-11-29</th>\n",
       "      <td>2713.495112</td>\n",
       "      <td>132.559687</td>\n",
       "    </tr>\n",
       "  </tbody>\n",
       "</table>\n",
       "<p>146 rows × 2 columns</p>\n",
       "</div>"
      ],
      "text/plain": [
       "INDUSTRIESNAME_1         QDII         商品型\n",
       "EndDate                                  \n",
       "2012-10-31          22.105592    0.000000\n",
       "2012-11-30          10.365592    0.000000\n",
       "2012-12-31           8.115592    0.000000\n",
       "2013-01-31           5.955592    0.000000\n",
       "2013-02-28           5.225592    0.000000\n",
       "...                       ...         ...\n",
       "2024-07-31        3922.142173  108.722687\n",
       "2024-08-30        3927.434540  105.811687\n",
       "2024-09-30        3878.511540  110.011687\n",
       "2024-10-31        3748.724540  135.064687\n",
       "2024-11-29        2713.495112  132.559687\n",
       "\n",
       "[146 rows x 2 columns]"
      ]
     },
     "execution_count": 25,
     "metadata": {},
     "output_type": "execute_result"
    }
   ],
   "source": [
    "df"
   ]
  },
  {
   "cell_type": "code",
   "execution_count": 26,
   "metadata": {},
   "outputs": [],
   "source": [
    "df.to_excel(\"d:/linglei.xlsx\")"
   ]
  }
 ],
 "metadata": {
  "kernelspec": {
   "display_name": "my312",
   "language": "python",
   "name": "python3"
  },
  "language_info": {
   "codemirror_mode": {
    "name": "ipython",
    "version": 3
   },
   "file_extension": ".py",
   "mimetype": "text/x-python",
   "name": "python",
   "nbconvert_exporter": "python",
   "pygments_lexer": "ipython3",
   "version": "3.12.4"
  }
 },
 "nbformat": 4,
 "nbformat_minor": 2
}
