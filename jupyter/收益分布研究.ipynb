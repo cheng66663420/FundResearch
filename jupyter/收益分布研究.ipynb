{
 "cells": [
  {
   "cell_type": "code",
   "execution_count": 10,
   "metadata": {},
   "outputs": [
    {
     "name": "stderr",
     "output_type": "stream",
     "text": [
      "C:\\Users\\Wilcoxon\\AppData\\Local\\Temp\\ipykernel_22916\\153790671.py:13: FutureWarning: 'M' is deprecated and will be removed in a future version, please use 'ME' instead.\n",
      "  df_M = df.set_index(\"TradingDay\")[\"ClosePrice\"].resample(period).last()\n"
     ]
    },
    {
     "data": {
      "image/png": "[encoded data removed]",
      "text/plain": [
       "<Figure size 640x480 with 1 Axes>"
      ]
     },
     "metadata": {},
     "output_type": "display_data"
    },
    {
     "name": "stdout",
     "output_type": "stream",
     "text": [
      "0.12364847324612899 1.5337620468661113\n"
     ]
    }
   ],
   "source": [
    "from quant_utils.db_conn import DB_CONN_JJTG_DATA\n",
    "import pandas as pd\n",
    "import matplotlib.pyplot as plt\n",
    "from scipy.stats import norm, skew, kurtosis\n",
    "import numpy as np\n",
    "period = \"M\"\n",
    "bins = 50\n",
    "query_sql = \"\"\"\n",
    "SELECT * FROM `chentiancheng`.`jy_indexquote` WHERE `SecuCode` = '000300' \n",
    "\"\"\"\n",
    "df = DB_CONN_JJTG_DATA.exec_query(query_sql)\n",
    "df[\"TradingDay\"] = pd.to_datetime(df[\"TradingDay\"])\n",
    "df_M = df.set_index(\"TradingDay\")[\"ClosePrice\"].resample(period).last()\n",
    "df_M = df_M.reset_index()\n",
    "df_M[\"ret\"] = df_M.ClosePrice.pct_change()\n",
    "data = df_M[\"ret\"].dropna()\n",
    "%matplotlib inline\n",
    "plt.hist(data, bins=bins, density=True, alpha=0.5)\n",
    "\n",
    "\n",
    "# 计算正态分布的PDF\n",
    "\n",
    "x = np.linspace(data.min(), data.max(), 100)\n",
    "plt.plot(x, norm.pdf(x, data.mean(), data.std()), 'r-', lw=2)\n",
    "plt.show()\n",
    "print(skew(data),kurtosis(data)) "
   ]
  },
  {
   "cell_type": "code",
   "execution_count": 2,
   "metadata": {},
   "outputs": [],
   "source": [
    "df = df.set_index(\"TradingDay\")"
   ]
  },
  {
   "cell_type": "code",
   "execution_count": 5,
   "metadata": {},
   "outputs": [
    {
     "data": {
      "text/html": [
       "<div>\n",
       "<style scoped>\n",
       "    .dataframe tbody tr th:only-of-type {\n",
       "        vertical-align: middle;\n",
       "    }\n",
       "\n",
       "    .dataframe tbody tr th {\n",
       "        vertical-align: top;\n",
       "    }\n",
       "\n",
       "    .dataframe thead th {\n",
       "        text-align: right;\n",
       "    }\n",
       "</style>\n",
       "<table border=\"1\" class=\"dataframe\">\n",
       "  <thead>\n",
       "    <tr style=\"text-align: right;\">\n",
       "      <th></th>\n",
       "      <th>ret_60</th>\n",
       "      <th>ret_120</th>\n",
       "      <th>ret_250</th>\n",
       "      <th>ret_500</th>\n",
       "      <th>ret_750</th>\n",
       "    </tr>\n",
       "  </thead>\n",
       "  <tbody>\n",
       "    <tr>\n",
       "      <th>count</th>\n",
       "      <td>68.000000</td>\n",
       "      <td>66.000000</td>\n",
       "      <td>65.000000</td>\n",
       "      <td>65.000000</td>\n",
       "      <td>63.000000</td>\n",
       "    </tr>\n",
       "    <tr>\n",
       "      <th>mean</th>\n",
       "      <td>-4.994186</td>\n",
       "      <td>0.301532</td>\n",
       "      <td>28.924948</td>\n",
       "      <td>89.941896</td>\n",
       "      <td>109.735419</td>\n",
       "    </tr>\n",
       "    <tr>\n",
       "      <th>std</th>\n",
       "      <td>23.109622</td>\n",
       "      <td>41.821501</td>\n",
       "      <td>81.697548</td>\n",
       "      <td>135.374708</td>\n",
       "      <td>112.975590</td>\n",
       "    </tr>\n",
       "    <tr>\n",
       "      <th>min</th>\n",
       "      <td>-41.383801</td>\n",
       "      <td>-57.798818</td>\n",
       "      <td>-70.505154</td>\n",
       "      <td>-44.327400</td>\n",
       "      <td>-38.147823</td>\n",
       "    </tr>\n",
       "    <tr>\n",
       "      <th>25%</th>\n",
       "      <td>-20.762743</td>\n",
       "      <td>-31.196403</td>\n",
       "      <td>-26.874082</td>\n",
       "      <td>-3.264953</td>\n",
       "      <td>17.441140</td>\n",
       "    </tr>\n",
       "    <tr>\n",
       "      <th>50%</th>\n",
       "      <td>-8.738837</td>\n",
       "      <td>-8.982280</td>\n",
       "      <td>8.976746</td>\n",
       "      <td>36.248116</td>\n",
       "      <td>96.598469</td>\n",
       "    </tr>\n",
       "    <tr>\n",
       "      <th>75%</th>\n",
       "      <td>11.157524</td>\n",
       "      <td>25.131503</td>\n",
       "      <td>66.235215</td>\n",
       "      <td>112.488319</td>\n",
       "      <td>187.318779</td>\n",
       "    </tr>\n",
       "    <tr>\n",
       "      <th>max</th>\n",
       "      <td>53.681648</td>\n",
       "      <td>128.413796</td>\n",
       "      <td>269.421488</td>\n",
       "      <td>446.126442</td>\n",
       "      <td>364.700546</td>\n",
       "    </tr>\n",
       "  </tbody>\n",
       "</table>\n",
       "</div>"
      ],
      "text/plain": [
       "          ret_60     ret_120     ret_250     ret_500     ret_750\n",
       "count  68.000000   66.000000   65.000000   65.000000   63.000000\n",
       "mean   -4.994186    0.301532   28.924948   89.941896  109.735419\n",
       "std    23.109622   41.821501   81.697548  135.374708  112.975590\n",
       "min   -41.383801  -57.798818  -70.505154  -44.327400  -38.147823\n",
       "25%   -20.762743  -31.196403  -26.874082   -3.264953   17.441140\n",
       "50%    -8.738837   -8.982280    8.976746   36.248116   96.598469\n",
       "75%    11.157524   25.131503   66.235215  112.488319  187.318779\n",
       "max    53.681648  128.413796  269.421488  446.126442  364.700546"
      ]
     },
     "execution_count": 5,
     "metadata": {},
     "output_type": "execute_result"
    }
   ],
   "source": [
    "for i in [60,120,250,500,750]:\n",
    "    df[f\"ret_{i}\"] = (df[\"ClosePrice\"]/df[\"ClosePrice\"].shift(i) - 1)*100\n",
    "    df[f\"ret_{i}\"] = df[f\"ret_{i}\"].shift(1)\n",
    "\n",
    "df[df['ChangePCT'] >= 4][[\"ret_60\", \"ret_120\", \"ret_250\", \"ret_500\", \"ret_750\"]].describe()"
   ]
  },
  {
   "cell_type": "code",
   "execution_count": 7,
   "metadata": {},
   "outputs": [
    {
     "data": {
      "text/html": [
       "<div>\n",
       "<style scoped>\n",
       "    .dataframe tbody tr th:only-of-type {\n",
       "        vertical-align: middle;\n",
       "    }\n",
       "\n",
       "    .dataframe tbody tr th {\n",
       "        vertical-align: top;\n",
       "    }\n",
       "\n",
       "    .dataframe thead th {\n",
       "        text-align: right;\n",
       "    }\n",
       "</style>\n",
       "<table border=\"1\" class=\"dataframe\">\n",
       "  <thead>\n",
       "    <tr style=\"text-align: right;\">\n",
       "      <th></th>\n",
       "      <th>ret_60</th>\n",
       "      <th>ret_120</th>\n",
       "      <th>ret_250</th>\n",
       "      <th>ret_500</th>\n",
       "      <th>ret_750</th>\n",
       "    </tr>\n",
       "    <tr>\n",
       "      <th>TradingDay</th>\n",
       "      <th></th>\n",
       "      <th></th>\n",
       "      <th></th>\n",
       "      <th></th>\n",
       "      <th></th>\n",
       "    </tr>\n",
       "  </thead>\n",
       "  <tbody>\n",
       "    <tr>\n",
       "      <th>2002-01-23</th>\n",
       "      <td>NaN</td>\n",
       "      <td>NaN</td>\n",
       "      <td>NaN</td>\n",
       "      <td>NaN</td>\n",
       "      <td>NaN</td>\n",
       "    </tr>\n",
       "    <tr>\n",
       "      <th>2002-01-31</th>\n",
       "      <td>NaN</td>\n",
       "      <td>NaN</td>\n",
       "      <td>NaN</td>\n",
       "      <td>NaN</td>\n",
       "      <td>NaN</td>\n",
       "    </tr>\n",
       "    <tr>\n",
       "      <th>2002-06-06</th>\n",
       "      <td>-7.126503</td>\n",
       "      <td>NaN</td>\n",
       "      <td>NaN</td>\n",
       "      <td>NaN</td>\n",
       "      <td>NaN</td>\n",
       "    </tr>\n",
       "    <tr>\n",
       "      <th>2002-06-24</th>\n",
       "      <td>-5.940502</td>\n",
       "      <td>NaN</td>\n",
       "      <td>NaN</td>\n",
       "      <td>NaN</td>\n",
       "      <td>NaN</td>\n",
       "    </tr>\n",
       "    <tr>\n",
       "      <th>2003-01-14</th>\n",
       "      <td>-8.862838</td>\n",
       "      <td>-19.541924</td>\n",
       "      <td>NaN</td>\n",
       "      <td>NaN</td>\n",
       "      <td>NaN</td>\n",
       "    </tr>\n",
       "    <tr>\n",
       "      <th>...</th>\n",
       "      <td>...</td>\n",
       "      <td>...</td>\n",
       "      <td>...</td>\n",
       "      <td>...</td>\n",
       "      <td>...</td>\n",
       "    </tr>\n",
       "    <tr>\n",
       "      <th>2024-09-24</th>\n",
       "      <td>-6.987417</td>\n",
       "      <td>-8.279771</td>\n",
       "      <td>-14.097054</td>\n",
       "      <td>-23.298864</td>\n",
       "      <td>-37.115529</td>\n",
       "    </tr>\n",
       "    <tr>\n",
       "      <th>2024-09-26</th>\n",
       "      <td>-2.203728</td>\n",
       "      <td>-3.843163</td>\n",
       "      <td>-9.548246</td>\n",
       "      <td>-16.362096</td>\n",
       "      <td>-33.973274</td>\n",
       "    </tr>\n",
       "    <tr>\n",
       "      <th>2024-09-27</th>\n",
       "      <td>2.118066</td>\n",
       "      <td>-1.399643</td>\n",
       "      <td>-5.120384</td>\n",
       "      <td>-13.561168</td>\n",
       "      <td>-30.336777</td>\n",
       "    </tr>\n",
       "    <tr>\n",
       "      <th>2024-09-30</th>\n",
       "      <td>6.937397</td>\n",
       "      <td>3.435357</td>\n",
       "      <td>-0.798788</td>\n",
       "      <td>-10.902956</td>\n",
       "      <td>-24.802841</td>\n",
       "    </tr>\n",
       "    <tr>\n",
       "      <th>2024-10-08</th>\n",
       "      <td>16.601067</td>\n",
       "      <td>12.614244</td>\n",
       "      <td>8.333689</td>\n",
       "      <td>-3.139290</td>\n",
       "      <td>-15.436964</td>\n",
       "    </tr>\n",
       "  </tbody>\n",
       "</table>\n",
       "<p>70 rows × 5 columns</p>\n",
       "</div>"
      ],
      "text/plain": [
       "               ret_60    ret_120    ret_250    ret_500    ret_750\n",
       "TradingDay                                                       \n",
       "2002-01-23        NaN        NaN        NaN        NaN        NaN\n",
       "2002-01-31        NaN        NaN        NaN        NaN        NaN\n",
       "2002-06-06  -7.126503        NaN        NaN        NaN        NaN\n",
       "2002-06-24  -5.940502        NaN        NaN        NaN        NaN\n",
       "2003-01-14  -8.862838 -19.541924        NaN        NaN        NaN\n",
       "...               ...        ...        ...        ...        ...\n",
       "2024-09-24  -6.987417  -8.279771 -14.097054 -23.298864 -37.115529\n",
       "2024-09-26  -2.203728  -3.843163  -9.548246 -16.362096 -33.973274\n",
       "2024-09-27   2.118066  -1.399643  -5.120384 -13.561168 -30.336777\n",
       "2024-09-30   6.937397   3.435357  -0.798788 -10.902956 -24.802841\n",
       "2024-10-08  16.601067  12.614244   8.333689  -3.139290 -15.436964\n",
       "\n",
       "[70 rows x 5 columns]"
      ]
     },
     "execution_count": 7,
     "metadata": {},
     "output_type": "execute_result"
    }
   ],
   "source": [
    "df[df['ChangePCT'] >= 4][[\"ret_60\", \"ret_120\", \"ret_250\", \"ret_500\", \"ret_750\"]]"
   ]
  },
  {
   "cell_type": "code",
   "execution_count": 6,
   "metadata": {},
   "outputs": [
    {
     "data": {
      "text/plain": [
       "count    8326.000000\n",
       "mean        0.000215\n",
       "std         0.012922\n",
       "min        -0.092398\n",
       "25%        -0.002904\n",
       "50%         0.000000\n",
       "75%         0.003357\n",
       "max         0.093893\n",
       "Name: ret, dtype: float64"
      ]
     },
     "execution_count": 6,
     "metadata": {},
     "output_type": "execute_result"
    }
   ],
   "source": [
    "data.describe()"
   ]
  },
  {
   "cell_type": "code",
   "execution_count": 9,
   "metadata": {},
   "outputs": [
    {
     "data": {
      "text/plain": [
       "-0.023915052899553587"
      ]
     },
     "execution_count": 9,
     "metadata": {},
     "output_type": "execute_result"
    }
   ],
   "source": [
    "data[data < data.quantile(0.1)].mean()"
   ]
  },
  {
   "cell_type": "code",
   "execution_count": 9,
   "metadata": {},
   "outputs": [
    {
     "name": "stderr",
     "output_type": "stream",
     "text": [
      "C:\\Users\\Wilcoxon\\AppData\\Local\\Temp\\ipykernel_22916\\1861428416.py:6: FutureWarning: 'M' is deprecated and will be removed in a future version, please use 'ME' instead.\n",
      "  df_M = df.set_index(\"TRADE_DT\")[\"S_DQ_CLOSE\"].resample(period).last()\n"
     ]
    },
    {
     "data": {
      "image/png": "[encoded data removed]",
      "text/plain": [
       "<Figure size 640x480 with 1 Axes>"
      ]
     },
     "metadata": {},
     "output_type": "display_data"
    },
    {
     "name": "stdout",
     "output_type": "stream",
     "text": [
      "-0.3630566948615946 1.6810374556071652\n"
     ]
    }
   ],
   "source": [
    "query_sql = \"\"\"\n",
    "SELECT * FROM `chentiancheng`.`global_index_eod_jy` WHERE `TICKER_SYMBOL` = 'NDX' \n",
    "\"\"\"\n",
    "df = DB_CONN_JJTG_DATA.exec_query(query_sql)\n",
    "df[\"TRADE_DT\"] = pd.to_datetime(df[\"TRADE_DT\"])\n",
    "df_M = df.set_index(\"TRADE_DT\")[\"S_DQ_CLOSE\"].resample(period).last()\n",
    "df_M = df_M.reset_index()\n",
    "df_M[\"ret\"] = df_M[\"S_DQ_CLOSE\"].pct_change()\n",
    "data = df_M[\"ret\"].dropna()\n",
    "%matplotlib inline\n",
    "plt.hist(data, bins=50, density=True, alpha=0.5)\n",
    "# 计算正态分布的PDF\n",
    "x = np.linspace(data.min(), data.max(), 100)\n",
    "plt.plot(x, norm.pdf(x, data.mean(), data.std()), 'r-', lw=2)\n",
    "plt.show()\n",
    "print(skew(data),kurtosis(data)) "
   ]
  },
  {
   "cell_type": "code",
   "execution_count": 11,
   "metadata": {},
   "outputs": [
    {
     "data": {
      "text/plain": [
       "-0.025072567254674244"
      ]
     },
     "execution_count": 11,
     "metadata": {},
     "output_type": "execute_result"
    }
   ],
   "source": [
    "data[data < data.quantile(0.1)].mean()"
   ]
  },
  {
   "cell_type": "code",
   "execution_count": 12,
   "metadata": {},
   "outputs": [
    {
     "data": {
      "text/plain": [
       "count    14500.000000\n",
       "mean         0.000442\n",
       "std          0.013538\n",
       "min         -0.150753\n",
       "25%         -0.002509\n",
       "50%          0.000000\n",
       "75%          0.004676\n",
       "max          0.187713\n",
       "Name: ret, dtype: float64"
      ]
     },
     "execution_count": 12,
     "metadata": {},
     "output_type": "execute_result"
    }
   ],
   "source": [
    "data.describe()"
   ]
  }
 ],
 "metadata": {
  "kernelspec": {
   "display_name": "my312",
   "language": "python",
   "name": "python3"
  },
  "language_info": {
   "codemirror_mode": {
    "name": "ipython",
    "version": 3
   },
   "file_extension": ".py",
   "mimetype": "text/x-python",
   "name": "python",
   "nbconvert_exporter": "python",
   "pygments_lexer": "ipython3",
   "version": "3.12.4"
  }
 },
 "nbformat": 4,
 "nbformat_minor": 2
}
