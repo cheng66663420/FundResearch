{
 "cells": [
  {
   "cell_type": "code",
   "execution_count": 6,
   "metadata": {},
   "outputs": [
    {
     "name": "stderr",
     "output_type": "stream",
     "text": [
      "C:\\Users\\Wilcoxon\\AppData\\Local\\Temp\\ipykernel_24328\\2857444691.py:26: FutureWarning: A value is trying to be set on a copy of a DataFrame or Series through chained assignment using an inplace method.\n",
      "The behavior will change in pandas 3.0. This inplace method will never work because the intermediate object on which we are setting values always behaves as a copy.\n",
      "\n",
      "For example, when doing 'df[col].method(value, inplace=True)', try using 'df.method({col: value}, inplace=True)' or df[col] = df[col].method(value) instead, to perform the operation inplace on the original object.\n",
      "\n",
      "\n",
      "  df[\"ALTERNATIVE_TICKER_SYMBOL\"].fillna(0, inplace=True)\n"
     ]
    }
   ],
   "source": [
    "from quant_utils.db_conn import DB_CONN_JJTG_DATA\n",
    "\n",
    "import pandas as pd\n",
    "\n",
    "file_path = \"C:/Users/Wilcoxon/Desktop/配置excel/组合配置信息/\"\n",
    "file_list = [\n",
    "    'portfolio_benchmark.xlsx',\n",
    "    'portfolio_info.xlsx',\n",
    "    'portfolio_constraint.xlsx',\n",
    "    'portfolio_products_weights.xlsx',\n",
    "]\n",
    "\n",
    "for file in file_list:\n",
    "    df = pd.read_excel(file_path + file)\n",
    "    if \"TICKER_SYMBOL\" in df.columns:\n",
    "        df[\"TICKER_SYMBOL\"] = (\n",
    "            df[\"TICKER_SYMBOL\"]\n",
    "            .astype(int)\n",
    "            .astype(str)\n",
    "            .str.rjust(6, \"0\")\n",
    "        )\n",
    "        df[\"TICKER_SYMBOL\"] = df[\"TICKER_SYMBOL\"].str.rjust(6, \"0\")\n",
    "        df.loc[df[\"TICKER_SYMBOL\"] == \"000000\", \"TICKER_SYMBOL\"] = None\n",
    "\n",
    "    if \"ALTERNATIVE_TICKER_SYMBOL\" in df.columns:\n",
    "        df[\"ALTERNATIVE_TICKER_SYMBOL\"].fillna(0, inplace=True)\n",
    "        df[\"ALTERNATIVE_TICKER_SYMBOL\"] = (\n",
    "            df[\"ALTERNATIVE_TICKER_SYMBOL\"]\n",
    "            .astype(int)\n",
    "            .astype(str)\n",
    "            .str.rjust(6, \"0\")\n",
    "        )\n",
    "        df.loc[df[\"ALTERNATIVE_TICKER_SYMBOL\"] == \"000000\", \"ALTERNATIVE_TICKER_SYMBOL\"] = None\n",
    "    DB_CONN_JJTG_DATA.upsert(df, table=file.split('.')[0])"
   ]
  },
  {
   "cell_type": "code",
   "execution_count": 5,
   "metadata": {},
   "outputs": [
    {
     "name": "stderr",
     "output_type": "stream",
     "text": [
      "d:\\miniforge3\\envs\\my312\\Lib\\site-packages\\openpyxl\\styles\\stylesheet.py:241: UserWarning: Workbook contains no default style, apply openpyxl's default\n",
      "  warn(\"Workbook contains no default style, apply openpyxl's default\")\n"
     ]
    }
   ],
   "source": [
    "import pandas as pd\n",
    "template_path = \"E:/基金投顾自动化/\"\n",
    "trade_time = '20241021'\n",
    "data = pd.read_excel(\n",
    "    template_path + \"基金投顾业务实时数据.xlsx\",\n",
    "    sheet_name=\"基金投顾客户级明细报表\",\n",
    "    engine=\"openpyxl\",\n",
    ")\n",
    "# data = data[~data[\"组合名称\"].isin(self.black_list)]\n",
    "data[\"委托时间\"] = pd.to_datetime(data[\"委托时间\"]).dt.strftime(\"%Y%m%d\")\n",
    "data[\"委托金额\"] = data[\"委托金额\"] / 10000\n",
    "data = data[data[\"委托时间\"] == trade_time]\n",
    "data = data[\n",
    "    data[\"交易类型\"].isin(\n",
    "        [\n",
    "            \"减少投资\",\n",
    "            \"解约\"\n",
    "        ]\n",
    "    )\n",
    "]\n",
    "data = data[data[\"委托时间\"] >= trade_time]\n",
    "data = data[\n",
    "    data[\"交易类型\"].isin(\n",
    "        [\n",
    "            \"减少投资\",\n",
    "            \"解约\"\n",
    "        ]\n",
    "    )\n",
    "]\n",
    "# data = data.query(f\"委托金额 >= {self.min_amount}\")\n",
    "data = (\n",
    "    data.groupby(by=[\"分公司\", \"委托时间\", \"客户编号\", \"组合名称\"])[\"委托金额\"]\n",
    "    .sum()\n",
    "    .reset_index()\n",
    "    .sort_values(by=\"委托金额\", ascending=False)\n",
    ")\n",
    "data.index = range(0, len(data))"
   ]
  },
  {
   "cell_type": "code",
   "execution_count": 6,
   "metadata": {},
   "outputs": [],
   "source": [
    "df = data.groupby(by=[\"组合名称\"])[\"委托金额\"].sum().reset_index()"
   ]
  },
  {
   "cell_type": "code",
   "execution_count": 7,
   "metadata": {},
   "outputs": [
    {
     "data": {
      "text/html": [
       "<div>\n",
       "<style scoped>\n",
       "    .dataframe tbody tr th:only-of-type {\n",
       "        vertical-align: middle;\n",
       "    }\n",
       "\n",
       "    .dataframe tbody tr th {\n",
       "        vertical-align: top;\n",
       "    }\n",
       "\n",
       "    .dataframe thead th {\n",
       "        text-align: right;\n",
       "    }\n",
       "</style>\n",
       "<table border=\"1\" class=\"dataframe\">\n",
       "  <thead>\n",
       "    <tr style=\"text-align: right;\">\n",
       "      <th></th>\n",
       "      <th>组合名称</th>\n",
       "      <th>委托金额</th>\n",
       "    </tr>\n",
       "  </thead>\n",
       "  <tbody>\n",
       "    <tr>\n",
       "      <th>5</th>\n",
       "      <td>知己优选-货币小福星</td>\n",
       "      <td>413.306784</td>\n",
       "    </tr>\n",
       "    <tr>\n",
       "      <th>4</th>\n",
       "      <td>知己优选-短债增强</td>\n",
       "      <td>164.765085</td>\n",
       "    </tr>\n",
       "    <tr>\n",
       "      <th>2</th>\n",
       "      <td>知己优选-均衡小确幸</td>\n",
       "      <td>13.152858</td>\n",
       "    </tr>\n",
       "    <tr>\n",
       "      <th>6</th>\n",
       "      <td>知己优选-进取全明星</td>\n",
       "      <td>6.120665</td>\n",
       "    </tr>\n",
       "    <tr>\n",
       "      <th>3</th>\n",
       "      <td>知己优选-月月享</td>\n",
       "      <td>6.035504</td>\n",
       "    </tr>\n",
       "    <tr>\n",
       "      <th>1</th>\n",
       "      <td>知己优选-500增强</td>\n",
       "      <td>0.024804</td>\n",
       "    </tr>\n",
       "    <tr>\n",
       "      <th>7</th>\n",
       "      <td>知己目标盈006期</td>\n",
       "      <td>0.010365</td>\n",
       "    </tr>\n",
       "    <tr>\n",
       "      <th>0</th>\n",
       "      <td>知己优选-300增强</td>\n",
       "      <td>0.008546</td>\n",
       "    </tr>\n",
       "  </tbody>\n",
       "</table>\n",
       "</div>"
      ],
      "text/plain": [
       "         组合名称        委托金额\n",
       "5  知己优选-货币小福星  413.306784\n",
       "4   知己优选-短债增强  164.765085\n",
       "2  知己优选-均衡小确幸   13.152858\n",
       "6  知己优选-进取全明星    6.120665\n",
       "3    知己优选-月月享    6.035504\n",
       "1  知己优选-500增强    0.024804\n",
       "7   知己目标盈006期    0.010365\n",
       "0  知己优选-300增强    0.008546"
      ]
     },
     "execution_count": 7,
     "metadata": {},
     "output_type": "execute_result"
    }
   ],
   "source": [
    "df.sort_values(by=\"委托金额\", ascending=False)"
   ]
  },
  {
   "cell_type": "code",
   "execution_count": 8,
   "metadata": {},
   "outputs": [
    {
     "data": {
      "text/plain": [
       "603.424611"
      ]
     },
     "execution_count": 8,
     "metadata": {},
     "output_type": "execute_result"
    }
   ],
   "source": [
    "df[\"委托金额\"].sum()"
   ]
  },
  {
   "cell_type": "markdown",
   "metadata": {},
   "source": []
  }
 ],
 "metadata": {
  "kernelspec": {
   "display_name": "my312",
   "language": "python",
   "name": "python3"
  },
  "language_info": {
   "codemirror_mode": {
    "name": "ipython",
    "version": 3
   },
   "file_extension": ".py",
   "mimetype": "text/x-python",
   "name": "python",
   "nbconvert_exporter": "python",
   "pygments_lexer": "ipython3",
   "version": "3.12.4"
  }
 },
 "nbformat": 4,
 "nbformat_minor": 2
}
