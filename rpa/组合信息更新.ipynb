{
 "cells": [
  {
   "cell_type": "code",
   "execution_count": 1,
   "metadata": {},
   "outputs": [
    {
     "name": "stderr",
     "output_type": "stream",
     "text": [
      "C:\\Users\\Wilcoxon\\AppData\\Local\\Temp\\ipykernel_21592\\2857444691.py:26: FutureWarning: A value is trying to be set on a copy of a DataFrame or Series through chained assignment using an inplace method.\n",
      "The behavior will change in pandas 3.0. This inplace method will never work because the intermediate object on which we are setting values always behaves as a copy.\n",
      "\n",
      "For example, when doing 'df[col].method(value, inplace=True)', try using 'df.method({col: value}, inplace=True)' or df[col] = df[col].method(value) instead, to perform the operation inplace on the original object.\n",
      "\n",
      "\n",
      "  df[\"ALTERNATIVE_TICKER_SYMBOL\"].fillna(0, inplace=True)\n"
     ]
    }
   ],
   "source": [
    "from quant_utils.db_conn import DB_CONN_JJTG_DATA\n",
    "\n",
    "import pandas as pd\n",
    "\n",
    "file_path = \"C:/Users/Wilcoxon/Desktop/配置excel/组合配置信息/\"\n",
    "file_list = [\n",
    "    'portfolio_benchmark.xlsx',\n",
    "    'portfolio_info.xlsx',\n",
    "    'portfolio_constraint.xlsx',\n",
    "    'portfolio_products_weights.xlsx',\n",
    "]\n",
    "\n",
    "for file in file_list:\n",
    "    df = pd.read_excel(file_path + file)\n",
    "    if \"TICKER_SYMBOL\" in df.columns:\n",
    "        df[\"TICKER_SYMBOL\"] = (\n",
    "            df[\"TICKER_SYMBOL\"]\n",
    "            .astype(int)\n",
    "            .astype(str)\n",
    "            .str.rjust(6, \"0\")\n",
    "        )\n",
    "        df[\"TICKER_SYMBOL\"] = df[\"TICKER_SYMBOL\"].str.rjust(6, \"0\")\n",
    "        df.loc[df[\"TICKER_SYMBOL\"] == \"000000\", \"TICKER_SYMBOL\"] = None\n",
    "\n",
    "    if \"ALTERNATIVE_TICKER_SYMBOL\" in df.columns:\n",
    "        df[\"ALTERNATIVE_TICKER_SYMBOL\"].fillna(0, inplace=True)\n",
    "        df[\"ALTERNATIVE_TICKER_SYMBOL\"] = (\n",
    "            df[\"ALTERNATIVE_TICKER_SYMBOL\"]\n",
    "            .astype(int)\n",
    "            .astype(str)\n",
    "            .str.rjust(6, \"0\")\n",
    "        )\n",
    "        df.loc[df[\"ALTERNATIVE_TICKER_SYMBOL\"] == \"000000\", \"ALTERNATIVE_TICKER_SYMBOL\"] = None\n",
    "    DB_CONN_JJTG_DATA.upsert(df, table=file.split('.')[0])"
   ]
  }
 ],
 "metadata": {
  "kernelspec": {
   "display_name": "my311",
   "language": "python",
   "name": "python3"
  },
  "language_info": {
   "codemirror_mode": {
    "name": "ipython",
    "version": 3
   },
   "file_extension": ".py",
   "mimetype": "text/x-python",
   "name": "python",
   "nbconvert_exporter": "python",
   "pygments_lexer": "ipython3",
   "version": "3.12.4"
  }
 },
 "nbformat": 4,
 "nbformat_minor": 2
}
